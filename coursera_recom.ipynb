{
  "cells": [
    {
      "cell_type": "code",
      "execution_count": 3,
      "metadata": {
        "id": "xvpw54wrOOcj"
      },
      "outputs": [
        {
          "name": "stderr",
          "output_type": "stream",
          "text": [
            "c:\\Users\\koush\\python\\ml\\coursera_recommnedation\\Lib\\site-packages\\tqdm\\auto.py:21: TqdmWarning: IProgress not found. Please update jupyter and ipywidgets. See https://ipywidgets.readthedocs.io/en/stable/user_install.html\n",
            "  from .autonotebook import tqdm as notebook_tqdm\n"
          ]
        }
      ],
      "source": [
        "import pandas as pd\n",
        "df = pd.read_csv(\"hf://datasets/azrai99/coursera-course-dataset/coursera_course_2024.csv\")\n",
        "import numpy as np"
      ]
    },
    {
      "cell_type": "code",
      "execution_count": 4,
      "metadata": {
        "id": "wdGrsIojOPUl"
      },
      "outputs": [],
      "source": [
        "df.drop(columns=['num_reviews','Level','Schedule','Satisfaction Rate','Unnamed: 0','enrolled'],inplace=True)"
      ]
    },
    {
      "cell_type": "code",
      "execution_count": 5,
      "metadata": {
        "colab": {
          "base_uri": "https://localhost:8080/"
        },
        "id": "xCG8P1bYOPRD",
        "outputId": "30ae003c-5383-4560-f55b-e62fd8e0e0e1"
      },
      "outputs": [
        {
          "name": "stdout",
          "output_type": "stream",
          "text": [
            "<class 'pandas.core.frame.DataFrame'>\n",
            "RangeIndex: 6645 entries, 0 to 6644\n",
            "Data columns (total 8 columns):\n",
            " #   Column           Non-Null Count  Dtype \n",
            "---  ------           --------------  ----- \n",
            " 0   title            6645 non-null   object\n",
            " 1   rating           6645 non-null   object\n",
            " 2   Instructor       6644 non-null   object\n",
            " 3   Organization     6645 non-null   object\n",
            " 4   Skills           6645 non-null   object\n",
            " 5   Description      6635 non-null   object\n",
            " 6   Modules/Courses  6635 non-null   object\n",
            " 7   URL              6645 non-null   object\n",
            "dtypes: object(8)\n",
            "memory usage: 415.4+ KB\n"
          ]
        }
      ],
      "source": [
        "df.info()"
      ]
    },
    {
      "cell_type": "code",
      "execution_count": 6,
      "metadata": {
        "id": "160Nro_WOPOv"
      },
      "outputs": [],
      "source": [
        "df.dropna(axis=0,inplace=True)"
      ]
    },
    {
      "cell_type": "code",
      "execution_count": 7,
      "metadata": {
        "colab": {
          "base_uri": "https://localhost:8080/",
          "height": 335
        },
        "id": "HnrcoQRROPMX",
        "outputId": "97e67168-0cc7-4d97-cd6a-bb21c11fafd7"
      },
      "outputs": [
        {
          "data": {
            "text/plain": [
              "title              0\n",
              "rating             0\n",
              "Instructor         0\n",
              "Organization       0\n",
              "Skills             0\n",
              "Description        0\n",
              "Modules/Courses    0\n",
              "URL                0\n",
              "dtype: int64"
            ]
          },
          "execution_count": 7,
          "metadata": {},
          "output_type": "execute_result"
        }
      ],
      "source": [
        "df.isnull().sum()"
      ]
    },
    {
      "cell_type": "code",
      "execution_count": 8,
      "metadata": {
        "colab": {
          "base_uri": "https://localhost:8080/"
        },
        "id": "a0iF04BnOPE5",
        "outputId": "d77b9598-4faf-4287-fcb3-27606f1dbfb7"
      },
      "outputs": [
        {
          "name": "stdout",
          "output_type": "stream",
          "text": [
            "<class 'pandas.core.frame.DataFrame'>\n",
            "Index: 6634 entries, 0 to 6644\n",
            "Data columns (total 8 columns):\n",
            " #   Column           Non-Null Count  Dtype \n",
            "---  ------           --------------  ----- \n",
            " 0   title            6634 non-null   object\n",
            " 1   rating           6634 non-null   object\n",
            " 2   Instructor       6634 non-null   object\n",
            " 3   Organization     6634 non-null   object\n",
            " 4   Skills           6634 non-null   object\n",
            " 5   Description      6634 non-null   object\n",
            " 6   Modules/Courses  6634 non-null   object\n",
            " 7   URL              6634 non-null   object\n",
            "dtypes: object(8)\n",
            "memory usage: 466.5+ KB\n"
          ]
        }
      ],
      "source": [
        "df.info()"
      ]
    },
    {
      "cell_type": "code",
      "execution_count": 9,
      "metadata": {
        "colab": {
          "base_uri": "https://localhost:8080/",
          "height": 53
        },
        "id": "nmv-EZe_OO9H",
        "outputId": "5d1abac5-e426-4c01-de82-8b8307f77224"
      },
      "outputs": [
        {
          "data": {
            "text/plain": [
              "\"['Applying Generative AI in data projects', 'Anomaly detection with GenAI', 'Analyzing GenAI data security and privacy', 'Data augmentation with GenAI', 'Integrating GenAI into data workflows']\""
            ]
          },
          "execution_count": 9,
          "metadata": {},
          "output_type": "execute_result"
        }
      ],
      "source": [
        "df['Skills'][111]"
      ]
    },
    {
      "cell_type": "code",
      "execution_count": 10,
      "metadata": {
        "id": "2plbx2nQOO6t"
      },
      "outputs": [],
      "source": [
        "from ast import literal_eval"
      ]
    },
    {
      "cell_type": "code",
      "execution_count": 11,
      "metadata": {
        "id": "0y-G1MkrShX_"
      },
      "outputs": [],
      "source": [
        "df['Skills'] = df['Skills'].apply(literal_eval)"
      ]
    },
    {
      "cell_type": "code",
      "execution_count": 12,
      "metadata": {
        "id": "aQtTuRzPOPCa"
      },
      "outputs": [],
      "source": [
        "df['tags'] = df.apply(\n",
        "    lambda row: list(filter(None, (\n",
        "        str(row['title']) + ' ' +\n",
        "        str(row['Description']) + ' ' +\n",
        "        str(row['Instructor']) + ' ' +\n",
        "        str(row['Organization'])\n",
        "    ).split(\" \"))) + row['Skills'],\n",
        "    axis=1\n",
        ")"
      ]
    },
    {
      "cell_type": "code",
      "execution_count": 13,
      "metadata": {
        "id": "H8lcAJhwShSF"
      },
      "outputs": [],
      "source": [
        "df['tags'] = df['tags'].apply(lambda x: \" \".join(x))"
      ]
    },
    {
      "cell_type": "code",
      "execution_count": 14,
      "metadata": {
        "id": "O8V5p1SBShKw"
      },
      "outputs": [],
      "source": [
        "from sklearn.feature_extraction.text import TfidfVectorizer\n",
        "from sklearn.metrics.pairwise import cosine_similarity"
      ]
    },
    {
      "cell_type": "code",
      "execution_count": 15,
      "metadata": {
        "id": "tvKQjeH8ShNR"
      },
      "outputs": [],
      "source": [
        "vectorizer = TfidfVectorizer(stop_words='english')\n",
        "tag_vectors = vectorizer.fit_transform(df['tags'])\n",
        "\n",
        "# 2. Compute cosine similarity matrix (NxN where N = number of courses)\n",
        "similarity_matrix = cosine_similarity(tag_vectors)"
      ]
    },
    {
      "cell_type": "code",
      "execution_count": 16,
      "metadata": {
        "colab": {
          "base_uri": "https://localhost:8080/"
        },
        "id": "uDDonxQ-ShIP",
        "outputId": "f0aebdcd-4dea-4028-8307-c38be34a63e7"
      },
      "outputs": [
        {
          "data": {
            "text/plain": [
              "6634"
            ]
          },
          "execution_count": 16,
          "metadata": {},
          "output_type": "execute_result"
        }
      ],
      "source": [
        "len(similarity_matrix[0])"
      ]
    },
    {
      "cell_type": "code",
      "execution_count": 17,
      "metadata": {
        "colab": {
          "base_uri": "https://localhost:8080/"
        },
        "id": "K7NI-dq3ShFm",
        "outputId": "7c7b3b43-5b58-4065-c8f9-164162d7b1a3"
      },
      "outputs": [
        {
          "data": {
            "text/plain": [
              "(6634, 9)"
            ]
          },
          "execution_count": 17,
          "metadata": {},
          "output_type": "execute_result"
        }
      ],
      "source": [
        "df.shape"
      ]
    },
    {
      "cell_type": "code",
      "execution_count": 18,
      "metadata": {
        "id": "IrrMhji3ShDM"
      },
      "outputs": [],
      "source": [
        "def get_top_5_similar(idx, similarity_matrix, df):\n",
        "    similarity_scores = list(enumerate(similarity_matrix[idx]))\n",
        "    sorted_scores = sorted(similarity_scores, key=lambda x: x[1], reverse=True)\n",
        "    top_5 = [df.iloc[i[0]]['title'] for i in sorted_scores[1:6]]\n",
        "    return top_5"
      ]
    },
    {
      "cell_type": "code",
      "execution_count": 19,
      "metadata": {
        "id": "o5CDmaSiShAr"
      },
      "outputs": [],
      "source": [
        "df.reset_index(drop=True, inplace=True)\n",
        "df['recommended_courses'] = df.index.to_series().apply(lambda idx: get_top_5_similar(idx, similarity_matrix, df))"
      ]
    },
    {
      "cell_type": "code",
      "execution_count": 20,
      "metadata": {
        "id": "V1AFnA7mSg5l"
      },
      "outputs": [],
      "source": [
        "df.to_pickle('courses_df.pkl')"
      ]
    },
    {
      "cell_type": "code",
      "execution_count": null,
      "metadata": {
        "id": "A6JNJRCjSg3K"
      },
      "outputs": [],
      "source": []
    },
    {
      "cell_type": "code",
      "execution_count": null,
      "metadata": {
        "id": "_fFwp7YpSg0p"
      },
      "outputs": [],
      "source": []
    },
    {
      "cell_type": "code",
      "execution_count": null,
      "metadata": {
        "id": "a7WKLl8kSgyP"
      },
      "outputs": [],
      "source": []
    },
    {
      "cell_type": "code",
      "execution_count": null,
      "metadata": {
        "id": "ZgXXoyo5Sgvw"
      },
      "outputs": [],
      "source": []
    },
    {
      "cell_type": "code",
      "execution_count": null,
      "metadata": {
        "id": "tH9on-eTSgtV"
      },
      "outputs": [],
      "source": []
    },
    {
      "cell_type": "code",
      "execution_count": null,
      "metadata": {
        "id": "KIhIMIUISgqs"
      },
      "outputs": [],
      "source": []
    },
    {
      "cell_type": "code",
      "execution_count": null,
      "metadata": {
        "id": "_4P5AyUySgoU"
      },
      "outputs": [],
      "source": []
    },
    {
      "cell_type": "code",
      "execution_count": null,
      "metadata": {
        "id": "JGGUjomBSgl9"
      },
      "outputs": [],
      "source": []
    },
    {
      "cell_type": "code",
      "execution_count": null,
      "metadata": {
        "id": "LW_fQM5TSgje"
      },
      "outputs": [],
      "source": []
    },
    {
      "cell_type": "code",
      "execution_count": null,
      "metadata": {
        "id": "NKrR76TCSgg-"
      },
      "outputs": [],
      "source": []
    },
    {
      "cell_type": "code",
      "execution_count": null,
      "metadata": {
        "id": "DHWKeewdSgec"
      },
      "outputs": [],
      "source": []
    },
    {
      "cell_type": "code",
      "execution_count": null,
      "metadata": {
        "id": "q-i1RKVCSgb7"
      },
      "outputs": [],
      "source": []
    },
    {
      "cell_type": "code",
      "execution_count": null,
      "metadata": {
        "id": "GZRXwMFGSgZd"
      },
      "outputs": [],
      "source": []
    },
    {
      "cell_type": "code",
      "execution_count": null,
      "metadata": {
        "id": "MT_ogXV0SgWx"
      },
      "outputs": [],
      "source": []
    },
    {
      "cell_type": "code",
      "execution_count": null,
      "metadata": {
        "id": "gHrYcLdVSgUH"
      },
      "outputs": [],
      "source": []
    },
    {
      "cell_type": "code",
      "execution_count": null,
      "metadata": {
        "id": "J6s2Pa-BSgRt"
      },
      "outputs": [],
      "source": []
    },
    {
      "cell_type": "code",
      "execution_count": null,
      "metadata": {
        "id": "Ep-wXth8SgPE"
      },
      "outputs": [],
      "source": []
    },
    {
      "cell_type": "code",
      "execution_count": null,
      "metadata": {
        "id": "Yxb_zkXcSgMs"
      },
      "outputs": [],
      "source": []
    },
    {
      "cell_type": "code",
      "execution_count": null,
      "metadata": {
        "id": "6H15uH5DSgJ9"
      },
      "outputs": [],
      "source": []
    }
  ],
  "metadata": {
    "colab": {
      "provenance": []
    },
    "kernelspec": {
      "display_name": "coursera_recommnedation",
      "language": "python",
      "name": "python3"
    },
    "language_info": {
      "codemirror_mode": {
        "name": "ipython",
        "version": 3
      },
      "file_extension": ".py",
      "mimetype": "text/x-python",
      "name": "python",
      "nbconvert_exporter": "python",
      "pygments_lexer": "ipython3",
      "version": "3.12.4"
    }
  },
  "nbformat": 4,
  "nbformat_minor": 0
}
